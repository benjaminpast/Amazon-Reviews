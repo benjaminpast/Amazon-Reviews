{
 "cells": [
  {
   "cell_type": "code",
   "execution_count": 7,
   "metadata": {},
   "outputs": [],
   "source": [
    "#Librerías básicas utiliadas\n",
    "import numpy as np\n",
    "import pandas as pd\n",
    "import re\n",
    "import os\n",
    "\n",
    "#Librerías necesarias para abrir imágenes, generar nube de palabras y plot\n",
    "from PIL import Image\n",
    "from wordcloud import WordCloud, ImageColorGenerator\n",
    "import matplotlib.pyplot as plt\n",
    "\n",
    "#Librerías necesarias para la limpieza de datos\n",
    "import string\n",
    "import nltk\n",
    "from nltk.corpus import stopwords\n",
    "from wordcloud import WordCloud, STOPWORDS\n",
    "import matplotlib.pyplot as plt\n"
   ]
  },
  {
   "cell_type": "code",
   "execution_count": null,
   "metadata": {},
   "outputs": [],
   "source": [
    "path_file = \"reviews_reviews_Baby_5.gz.parquet\"\n",
    "\n"
   ]
  },
  {
   "cell_type": "code",
   "execution_count": 8,
   "metadata": {},
   "outputs": [],
   "source": [
    "#Librerías básicas utiliadas\n",
    "import numpy as np\n",
    "import pandas as pd\n",
    "import re\n",
    "import os\n",
    "\n",
    "#Librerías necesarias para abrir imágenes, generar nube de palabras y plot\n",
    "from PIL import Image\n",
    "from wordcloud import WordCloud, ImageColorGenerator\n",
    "import matplotlib.pyplot as plt\n",
    "\n",
    "#Librerías necesarias para la limpieza de datos\n",
    "import string\n",
    "import nltk\n",
    "from nltk.corpus import stopwords\n",
    "from wordcloud import WordCloud, STOPWORDS\n",
    "import matplotlib.pyplot as plt\n",
    "\n",
    "\n",
    "def wordcloud(path_file):\n",
    "    \n",
    "    #Ingesta parquet\n",
    "    df = pd.read_parquet(path_file, engine='pyarrow')\n",
    "    df = df['reviewText']\n",
    "    df = pd.DataFrame(df, columns=['reviewText'])\n",
    "    \n",
    "    #Convertir en texto\n",
    "    texto = []\n",
    "    for i in range(len(df)):\n",
    "        row = df.iloc[i]['reviewText']\n",
    "        texto.append(row)\n",
    "        i = i+1\n",
    "    texto = \" \".join(texto)\n",
    "\n",
    "    # Limpiar texto\n",
    "    texto = texto.lower()\n",
    "    texto = re.sub('\\[.*?¿\\]\\%', ' ', texto)\n",
    "    texto = re.sub('[%s]' % re.escape(string.punctuation), ' ', texto)\n",
    "    texto = re.sub('\\w*\\d\\w*', '', texto)\n",
    "\n",
    "    # Eliminar stopwords\n",
    "    stopwords = open(\"stopwords.txt\", \"r\", encoding=\"utf8\").read()\n",
    "\n",
    "    def eliminar_stopwords(texto, stopwords):\n",
    "        return ' '.join([word for word in texto.split(' ') if word not in stopwords])\n",
    "\n",
    "    texto_final = eliminar_stopwords(texto, stopwords)\n",
    "\n",
    "    # WordCloud\n",
    "    # Import package\n",
    "    import matplotlib.pyplot as plt\n",
    "\n",
    "    # Import package stopwords\n",
    "    from wordcloud import WordCloud, STOPWORDS\n",
    "\n",
    "    # Define a function to plot word cloud\n",
    "    def plot_cloud(wordcloud):\n",
    "        # Set figure size\n",
    "        plt.figure(figsize=(40, 30))\n",
    "        # Display image\n",
    "        plt.imshow(wordcloud)\n",
    "        # No axis details\n",
    "        plt.axis(\"off\")\n",
    "\n",
    "    #Generate Wordcloud\n",
    "    wordcloud = WordCloud(width=3000, height=2000, random_state=1, background_color='black',\n",
    "                        colormap='Set2', collocations=False, stopwords=STOPWORDS).generate(texto_final)\n",
    "    \n",
    "\n",
    "    #Generamos la carpeta 'imagenes'.\n",
    "    nueva_carpeta = 'images/'\n",
    "\n",
    "    try:\n",
    "        os.mkdir(nueva_carpeta)\n",
    "\n",
    "    except OSError:\n",
    "        print('Ya existe una carpeta llamada %s' % nueva_carpeta)\n",
    "    else:\n",
    "        print('Se ha creado la carpeta: %s' % nueva_carpeta)\n",
    "\n",
    "    # Save image\n",
    "    wordcloud.to_file(\"images/wordcloud.png\")\n",
    "\n",
    "\n"
   ]
  },
  {
   "cell_type": "code",
   "execution_count": 9,
   "metadata": {},
   "outputs": [
    {
     "name": "stdout",
     "output_type": "stream",
     "text": [
      "Ya existe una carpeta llamada images/\n"
     ]
    }
   ],
   "source": [
    "wordcloud(path_file)\n"
   ]
  }
 ],
 "metadata": {
  "kernelspec": {
   "display_name": "Python 3.10.0 64-bit",
   "language": "python",
   "name": "python3"
  },
  "language_info": {
   "codemirror_mode": {
    "name": "ipython",
    "version": 3
   },
   "file_extension": ".py",
   "mimetype": "text/x-python",
   "name": "python",
   "nbconvert_exporter": "python",
   "pygments_lexer": "ipython3",
   "version": "3.10.0"
  },
  "orig_nbformat": 4,
  "vscode": {
   "interpreter": {
    "hash": "aee8b7b246df8f9039afb4144a1f6fd8d2ca17a180786b69acc140d282b71a49"
   }
  }
 },
 "nbformat": 4,
 "nbformat_minor": 2
}
